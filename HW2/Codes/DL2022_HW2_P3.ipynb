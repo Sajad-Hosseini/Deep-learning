{
 "cells": [
  {
   "cell_type": "markdown",
   "id": "9d9cfadd",
   "metadata": {},
   "source": [
    "# Sajad Hosseini Najafabadi\n",
    "# 400301997"
   ]
  },
  {
   "cell_type": "markdown",
   "id": "f320b37e",
   "metadata": {},
   "source": [
    "# 3.A"
   ]
  },
  {
   "cell_type": "code",
   "execution_count": 1,
   "id": "0c8d9725",
   "metadata": {},
   "outputs": [],
   "source": [
    "import numpy as np\n",
    "import pandas as pd\n",
    "from matplotlib import pyplot as plt\n",
    "import torch\n",
    "from torch.utils.data import Dataset\n",
    "from torchvision import datasets\n",
    "from torch.utils.data import DataLoader\n",
    "import torch.nn.functional as F\n",
    "from sklearn.model_selection import train_test_split\n",
    "import torch.nn as nn\n",
    "device = \"cuda\" if torch.cuda.is_available() else \"cpu\""
   ]
  },
  {
   "cell_type": "code",
   "execution_count": 2,
   "id": "f5ef444d",
   "metadata": {},
   "outputs": [],
   "source": [
    "df_train = pd.read_csv('./data/Q3_train.csv')\n",
    "df_test = pd.read_csv('./data/Q3_test.csv')"
   ]
  },
  {
   "cell_type": "code",
   "execution_count": 3,
   "id": "fa4e33f9",
   "metadata": {},
   "outputs": [
    {
     "data": {
      "image/png": "[encoded data removed]",
      "text/plain": [
       "<Figure size 1500x480 with 9 Axes>"
      ]
     },
     "metadata": {},
     "output_type": "display_data"
    }
   ],
   "source": [
    "targets = {\n",
    "            0: \"A\",\n",
    "            1: \"B\",\n",
    "            2: \"C\",\n",
    "            3: \"D\",\n",
    "            4: \"E\", \n",
    "            5: \"F\", \n",
    "            6: \"G\",\n",
    "            7: \"H\",\n",
    "            8: \"I\",\n",
    "            9: \"J\",\n",
    "            10: \"K\",\n",
    "            11: \"L\",\n",
    "            12: \"M\",\n",
    "            13: \"N\",\n",
    "            14: \"O\",\n",
    "            15: \"P\",\n",
    "            16: \"Q\",\n",
    "            17: \"R\",\n",
    "            18: \"S\",\n",
    "            19: \"T\",\n",
    "            20: \"U\",\n",
    "            21: \"V\",\n",
    "            22: \"W\",\n",
    "            23: \"X\",\n",
    "            24:\"Y\",\n",
    "            25:\"Z\",\n",
    "            }\n",
    "fig, axs = plt.subplots(1, 9)\n",
    "fig.set_figwidth(15)\n",
    "for i in range(9):\n",
    "    idx = torch.randint(1,len(df_train),(1,)).item()\n",
    "    img = df_train.iloc[idx, 1:].to_numpy().reshape(28, 28)\n",
    "    label = df_train.iloc[idx, 0]\n",
    "    axs[i].set_title(f\"{targets[label]}\", fontsize=10)\n",
    "    axs[i].imshow(img.squeeze(), cmap=\"gray\")\n",
    "    axs[i].axis(False)"
   ]
  },
  {
   "cell_type": "markdown",
   "id": "b5c612dd",
   "metadata": {},
   "source": [
    "# 3.B"
   ]
  },
  {
   "cell_type": "code",
   "execution_count": 4,
   "id": "aeb00ad3",
   "metadata": {},
   "outputs": [],
   "source": [
    "train, validation = train_test_split(df_train, test_size=0.15)\n",
    "X_train = torch.tensor(train.iloc[:,1:].values, dtype = torch.float32, device = device)\n",
    "X_val = torch.tensor(validation.iloc[:,1:].values, dtype = torch.float32, device = device)\n",
    "Y_train = torch.tensor(train.iloc[:,0].values, dtype = torch.int, device = device).long().squeeze()\n",
    "Y_val = torch.tensor(validation.iloc[:,0].values, dtype = torch.int, device = device).long().squeeze()\n",
    "X_test = torch.tensor(df_test.iloc[:,1:].values, dtype = torch.float32, device = device)\n",
    "Y_test = torch.tensor(df_test.iloc[:,0].values, dtype = torch.int, device = device).long().squeeze()"
   ]
  },
  {
   "cell_type": "code",
   "execution_count": 5,
   "id": "b8e5314e",
   "metadata": {},
   "outputs": [],
   "source": [
    "class create_dataset(Dataset):\n",
    "    \n",
    "    def __init__(self, X, Y):\n",
    "        self.dataset = X\n",
    "        self.labels = Y\n",
    "    \n",
    "    def __len__(self):\n",
    "        return len(self.dataset)\n",
    "\n",
    "    def __getitem__(self, idx):\n",
    "        return self.dataset[idx], self.labels[idx]"
   ]
  },
  {
   "cell_type": "code",
   "execution_count": 6,
   "id": "5546b2cf",
   "metadata": {},
   "outputs": [],
   "source": [
    "train_set = create_dataset(X_train, Y_train)\n",
    "validation_set = create_dataset(X_val, Y_val)\n",
    "test_set = create_dataset(X_test, Y_test)"
   ]
  },
  {
   "cell_type": "code",
   "execution_count": 7,
   "id": "e6cac4ac",
   "metadata": {},
   "outputs": [],
   "source": [
    "class NeuralNetwork(nn.Module):\n",
    "    \n",
    "    def __init__(self, drop_out_rate = 0):\n",
    "        super().__init__()\n",
    "        self.linear_relu_stack = nn.Sequential(\n",
    "            nn.Linear(in_features=28*28, out_features=1024),\n",
    "            nn.ReLU(),\n",
    "            nn.Dropout(drop_out_rate),\n",
    "            nn.Linear(in_features=1024, out_features=1024),\n",
    "            nn.ReLU(),\n",
    "            nn.Dropout(drop_out_rate),\n",
    "            nn.Linear(in_features=1024, out_features=512),\n",
    "            nn.ReLU() ,\n",
    "            nn.Linear(in_features=512, out_features=25),\n",
    "        )\n",
    "        \n",
    "    def forward(self, x):\n",
    "        return F.softmax(self.linear_relu_stack(x), dim = 1)"
   ]
  },
  {
   "cell_type": "code",
   "execution_count": 8,
   "id": "2d198932",
   "metadata": {},
   "outputs": [
    {
     "data": {
      "text/plain": [
       "NeuralNetwork(\n",
       "  (linear_relu_stack): Sequential(\n",
       "    (0): Linear(in_features=784, out_features=1024, bias=True)\n",
       "    (1): ReLU()\n",
       "    (2): Dropout(p=0, inplace=False)\n",
       "    (3): Linear(in_features=1024, out_features=1024, bias=True)\n",
       "    (4): ReLU()\n",
       "    (5): Dropout(p=0, inplace=False)\n",
       "    (6): Linear(in_features=1024, out_features=512, bias=True)\n",
       "    (7): ReLU()\n",
       "    (8): Linear(in_features=512, out_features=25, bias=True)\n",
       "  )\n",
       ")"
      ]
     },
     "execution_count": 8,
     "metadata": {},
     "output_type": "execute_result"
    }
   ],
   "source": [
    "model = NeuralNetwork()\n",
    "model = model.to(device)\n",
    "model.train()"
   ]
  },
  {
   "cell_type": "code",
   "execution_count": 9,
   "id": "d8b0b669",
   "metadata": {},
   "outputs": [],
   "source": [
    "def train_loop(data, model, loss_fn, optimizer, batch_size):\n",
    "    model.train()\n",
    "    dataloader = DataLoader(data, batch_size=batch_size, shuffle=True)\n",
    "    for X, y in dataloader:\n",
    "        \n",
    "        # Compute prediction and loss\n",
    "        pred = model(X)\n",
    "        loss = loss_fn(pred, y)\n",
    "\n",
    "        # Backpropagation\n",
    "        optimizer.zero_grad()\n",
    "        loss.backward()\n",
    "        optimizer.step()\n",
    "    \n",
    "    print(f\"loss: {loss:>7f}\")\n",
    "            \n",
    "def test_loop(dataloader, model, loss_fn):\n",
    "    model.eval()\n",
    "    size = len(dataloader.dataset)\n",
    "    num_batches = len(dataloader)\n",
    "    test_loss, correct = 0, 0\n",
    "\n",
    "    with torch.inference_mode():\n",
    "        for X, y in dataloader:\n",
    "            pred = model(X)\n",
    "            test_loss += loss_fn(pred, y).item()\n",
    "            correct += (pred.argmax(1) == y).type(torch.float).sum().item()\n",
    "\n",
    "    test_loss /= num_batches\n",
    "    correct /= size\n",
    "    print(f\"Test Error: \\n Accuracy: {(100*correct):>0.1f}%, Avg loss: {test_loss:>8f} \\n\")\n",
    "    return 100*correct"
   ]
  },
  {
   "cell_type": "code",
   "execution_count": 10,
   "id": "44d19de9",
   "metadata": {},
   "outputs": [],
   "source": [
    "learning_rate = 1e-3\n",
    "batch_size = 32\n",
    "epoch = 20\n",
    "loss_fn = nn.CrossEntropyLoss()\n",
    "test_dataloader = DataLoader(test_set, batch_size=len(test_set), shuffle=False)\n",
    "validation_dataloader = DataLoader(validation_set, batch_size=batch_size, shuffle=False)"
   ]
  },
  {
   "cell_type": "markdown",
   "id": "28fa162d",
   "metadata": {},
   "source": [
    "# SGD"
   ]
  },
  {
   "cell_type": "code",
   "execution_count": 11,
   "id": "1923ef97",
   "metadata": {},
   "outputs": [],
   "source": [
    "optimizer = torch.optim.SGD(model.parameters(), lr=learning_rate)"
   ]
  },
  {
   "cell_type": "code",
   "execution_count": 12,
   "id": "c48344dd",
   "metadata": {},
   "outputs": [
    {
     "name": "stdout",
     "output_type": "stream",
     "text": [
      "Epoch 1\n",
      "-------------------------------\n",
      "loss: 3.149747\n",
      "Test Error: \n",
      " Accuracy: 12.2%, Avg loss: 3.153019 \n",
      "\n",
      "Epoch 2\n",
      "-------------------------------\n",
      "loss: 3.122736\n",
      "Test Error: \n",
      " Accuracy: 14.0%, Avg loss: 3.135208 \n",
      "\n",
      "Epoch 3\n",
      "-------------------------------\n",
      "loss: 3.027147\n",
      "Test Error: \n",
      " Accuracy: 35.5%, Avg loss: 2.935971 \n",
      "\n",
      "Epoch 4\n",
      "-------------------------------\n",
      "loss: 2.783120\n",
      "Test Error: \n",
      " Accuracy: 41.5%, Avg loss: 2.883255 \n",
      "\n",
      "Epoch 5\n",
      "-------------------------------\n",
      "loss: 3.029649\n",
      "Test Error: \n",
      " Accuracy: 41.8%, Avg loss: 2.877757 \n",
      "\n",
      "Epoch 6\n",
      "-------------------------------\n",
      "loss: 2.919260\n",
      "Test Error: \n",
      " Accuracy: 48.1%, Avg loss: 2.816229 \n",
      "\n",
      "Epoch 7\n",
      "-------------------------------\n",
      "loss: 2.794233\n",
      "Test Error: \n",
      " Accuracy: 46.4%, Avg loss: 2.826507 \n",
      "\n",
      "Epoch 8\n",
      "-------------------------------\n",
      "loss: 3.149787\n",
      "Test Error: \n",
      " Accuracy: 49.7%, Avg loss: 2.805858 \n",
      "\n",
      "Epoch 9\n",
      "-------------------------------\n",
      "loss: 2.535277\n",
      "Test Error: \n",
      " Accuracy: 49.6%, Avg loss: 2.801911 \n",
      "\n",
      "Epoch 10\n",
      "-------------------------------\n",
      "loss: 2.899928\n",
      "Test Error: \n",
      " Accuracy: 50.3%, Avg loss: 2.796454 \n",
      "\n",
      "Epoch 11\n",
      "-------------------------------\n",
      "loss: 2.532616\n",
      "Test Error: \n",
      " Accuracy: 50.3%, Avg loss: 2.791857 \n",
      "\n",
      "Epoch 12\n",
      "-------------------------------\n",
      "loss: 2.411984\n",
      "Test Error: \n",
      " Accuracy: 51.0%, Avg loss: 2.791096 \n",
      "\n",
      "Epoch 13\n",
      "-------------------------------\n",
      "loss: 2.665882\n",
      "Test Error: \n",
      " Accuracy: 50.6%, Avg loss: 2.795724 \n",
      "\n",
      "Epoch 14\n",
      "-------------------------------\n",
      "loss: 2.901165\n",
      "Test Error: \n",
      " Accuracy: 52.8%, Avg loss: 2.774796 \n",
      "\n",
      "Epoch 15\n",
      "-------------------------------\n",
      "loss: 2.657885\n",
      "Test Error: \n",
      " Accuracy: 55.5%, Avg loss: 2.752608 \n",
      "\n",
      "Epoch 16\n",
      "-------------------------------\n",
      "loss: 2.801663\n",
      "Test Error: \n",
      " Accuracy: 55.5%, Avg loss: 2.739478 \n",
      "\n",
      "Epoch 17\n",
      "-------------------------------\n",
      "loss: 2.785067\n",
      "Test Error: \n",
      " Accuracy: 59.8%, Avg loss: 2.704041 \n",
      "\n",
      "Epoch 18\n",
      "-------------------------------\n",
      "loss: 2.412179\n",
      "Test Error: \n",
      " Accuracy: 58.5%, Avg loss: 2.714122 \n",
      "\n",
      "Epoch 19\n",
      "-------------------------------\n",
      "loss: 2.539878\n",
      "Test Error: \n",
      " Accuracy: 61.0%, Avg loss: 2.692482 \n",
      "\n",
      "Epoch 20\n",
      "-------------------------------\n",
      "loss: 3.022852\n",
      "Test Error: \n",
      " Accuracy: 60.4%, Avg loss: 2.693043 \n",
      "\n",
      "Done!\n"
     ]
    }
   ],
   "source": [
    "for t in range(epoch):\n",
    "    print(f\"Epoch {t+1}\\n-------------------------------\")\n",
    "    train_loop(train_set, model, loss_fn, optimizer, batch_size)\n",
    "    acc = test_loop(test_dataloader, model, loss_fn)\n",
    "    if acc >= 75:\n",
    "        break\n",
    "print(\"Done!\")"
   ]
  },
  {
   "cell_type": "markdown",
   "id": "e7410136",
   "metadata": {},
   "source": [
    "# ADAM"
   ]
  },
  {
   "cell_type": "code",
   "execution_count": 13,
   "id": "051a5a7c",
   "metadata": {},
   "outputs": [],
   "source": [
    "optimizer = torch.optim.Adam(model.parameters(), lr=0.01*learning_rate, betas=(0.8, 0.8), eps=1e-08)"
   ]
  },
  {
   "cell_type": "code",
   "execution_count": 14,
   "id": "3f97dcee",
   "metadata": {},
   "outputs": [
    {
     "name": "stdout",
     "output_type": "stream",
     "text": [
      "Epoch 1\n",
      "-------------------------------\n",
      "loss: 2.789528\n",
      "Test Error: \n",
      " Accuracy: 61.0%, Avg loss: 2.693984 \n",
      "\n",
      "Epoch 2\n",
      "-------------------------------\n",
      "loss: 2.373625\n",
      "Test Error: \n",
      " Accuracy: 66.1%, Avg loss: 2.641125 \n",
      "\n",
      "Epoch 3\n",
      "-------------------------------\n",
      "loss: 2.559368\n",
      "Test Error: \n",
      " Accuracy: 68.7%, Avg loss: 2.617039 \n",
      "\n",
      "Epoch 4\n",
      "-------------------------------\n",
      "loss: 2.323561\n",
      "Test Error: \n",
      " Accuracy: 69.4%, Avg loss: 2.601969 \n",
      "\n",
      "Epoch 5\n",
      "-------------------------------\n",
      "loss: 2.300865\n",
      "Test Error: \n",
      " Accuracy: 68.1%, Avg loss: 2.616891 \n",
      "\n",
      "Epoch 6\n",
      "-------------------------------\n",
      "loss: 2.534694\n",
      "Test Error: \n",
      " Accuracy: 69.7%, Avg loss: 2.600008 \n",
      "\n",
      "Epoch 7\n",
      "-------------------------------\n",
      "loss: 2.410655\n",
      "Test Error: \n",
      " Accuracy: 68.9%, Avg loss: 2.598600 \n",
      "\n",
      "Epoch 8\n",
      "-------------------------------\n",
      "loss: 2.287250\n",
      "Test Error: \n",
      " Accuracy: 70.2%, Avg loss: 2.599590 \n",
      "\n",
      "Epoch 9\n",
      "-------------------------------\n",
      "loss: 2.531199\n",
      "Test Error: \n",
      " Accuracy: 70.5%, Avg loss: 2.592097 \n",
      "\n",
      "Epoch 10\n",
      "-------------------------------\n",
      "loss: 2.285420\n",
      "Test Error: \n",
      " Accuracy: 71.0%, Avg loss: 2.584892 \n",
      "\n",
      "Epoch 11\n",
      "-------------------------------\n",
      "loss: 2.410125\n",
      "Test Error: \n",
      " Accuracy: 73.2%, Avg loss: 2.567098 \n",
      "\n",
      "Epoch 12\n",
      "-------------------------------\n",
      "loss: 2.285520\n",
      "Test Error: \n",
      " Accuracy: 73.5%, Avg loss: 2.553926 \n",
      "\n",
      "Epoch 13\n",
      "-------------------------------\n",
      "loss: 2.285484\n",
      "Test Error: \n",
      " Accuracy: 74.6%, Avg loss: 2.546494 \n",
      "\n",
      "Epoch 14\n",
      "-------------------------------\n",
      "loss: 2.285358\n",
      "Test Error: \n",
      " Accuracy: 75.7%, Avg loss: 2.539462 \n",
      "\n",
      "Done!\n"
     ]
    }
   ],
   "source": [
    "for t in range(epoch):\n",
    "    print(f\"Epoch {t+1}\\n-------------------------------\")\n",
    "    train_loop(train_set, model, loss_fn, optimizer, batch_size)\n",
    "    acc2 = test_loop(test_dataloader, model, loss_fn)\n",
    "    if acc2 >= 75:\n",
    "        break\n",
    "print(\"Done!\")"
   ]
  },
  {
   "cell_type": "markdown",
   "id": "14570b80",
   "metadata": {},
   "source": [
    "###### Adam performs better than SGD. Because Adam has an adaptive learning rate Algorithm, helping it to converge faster."
   ]
  },
  {
   "cell_type": "markdown",
   "id": "3336e69c",
   "metadata": {},
   "source": [
    "# 3.C"
   ]
  },
  {
   "cell_type": "code",
   "execution_count": 15,
   "id": "72db5f88",
   "metadata": {},
   "outputs": [
    {
     "data": {
      "text/plain": [
       "NeuralNetwork(\n",
       "  (linear_relu_stack): Sequential(\n",
       "    (0): Linear(in_features=784, out_features=1024, bias=True)\n",
       "    (1): ReLU()\n",
       "    (2): Dropout(p=0.2, inplace=False)\n",
       "    (3): Linear(in_features=1024, out_features=1024, bias=True)\n",
       "    (4): ReLU()\n",
       "    (5): Dropout(p=0.2, inplace=False)\n",
       "    (6): Linear(in_features=1024, out_features=512, bias=True)\n",
       "    (7): ReLU()\n",
       "    (8): Linear(in_features=512, out_features=25, bias=True)\n",
       "  )\n",
       ")"
      ]
     },
     "execution_count": 15,
     "metadata": {},
     "output_type": "execute_result"
    }
   ],
   "source": [
    "model = NeuralNetwork(drop_out_rate = 0.2)\n",
    "model = model.to(device)\n",
    "model.train()"
   ]
  },
  {
   "cell_type": "code",
   "execution_count": 16,
   "id": "7ba31ba9",
   "metadata": {},
   "outputs": [],
   "source": [
    "optimizer = torch.optim.Adam(model.parameters(), lr=0.01*learning_rate, betas=(0.8, 0.8), eps=1e-08)"
   ]
  },
  {
   "cell_type": "code",
   "execution_count": 17,
   "id": "9ac6a8f3",
   "metadata": {},
   "outputs": [
    {
     "name": "stdout",
     "output_type": "stream",
     "text": [
      "Epoch 1\n",
      "-------------------------------\n",
      "loss: 2.948883\n",
      "Test Error: \n",
      " Accuracy: 10.3%, Avg loss: 3.180110 \n",
      "\n",
      "Epoch 2\n",
      "-------------------------------\n",
      "loss: 3.142108\n",
      "Test Error: \n",
      " Accuracy: 18.7%, Avg loss: 3.096115 \n",
      "\n",
      "Epoch 3\n",
      "-------------------------------\n",
      "loss: 3.031432\n",
      "Test Error: \n",
      " Accuracy: 23.8%, Avg loss: 3.047789 \n",
      "\n",
      "Epoch 4\n",
      "-------------------------------\n",
      "loss: 3.030889\n",
      "Test Error: \n",
      " Accuracy: 28.3%, Avg loss: 3.006712 \n",
      "\n",
      "Epoch 5\n",
      "-------------------------------\n",
      "loss: 2.782161\n",
      "Test Error: \n",
      " Accuracy: 33.3%, Avg loss: 2.961478 \n",
      "\n",
      "Epoch 6\n",
      "-------------------------------\n",
      "loss: 2.695458\n",
      "Test Error: \n",
      " Accuracy: 33.4%, Avg loss: 2.952710 \n",
      "\n",
      "Epoch 7\n",
      "-------------------------------\n",
      "loss: 2.790802\n",
      "Test Error: \n",
      " Accuracy: 34.6%, Avg loss: 2.941174 \n",
      "\n",
      "Epoch 8\n",
      "-------------------------------\n",
      "loss: 2.904962\n",
      "Test Error: \n",
      " Accuracy: 35.4%, Avg loss: 2.931689 \n",
      "\n",
      "Epoch 9\n",
      "-------------------------------\n",
      "loss: 2.542132\n",
      "Test Error: \n",
      " Accuracy: 37.3%, Avg loss: 2.908592 \n",
      "\n",
      "Epoch 10\n",
      "-------------------------------\n",
      "loss: 2.668905\n",
      "Test Error: \n",
      " Accuracy: 41.1%, Avg loss: 2.881143 \n",
      "\n",
      "Epoch 11\n",
      "-------------------------------\n",
      "loss: 2.779328\n",
      "Test Error: \n",
      " Accuracy: 41.0%, Avg loss: 2.872313 \n",
      "\n",
      "Epoch 12\n",
      "-------------------------------\n",
      "loss: 2.709898\n",
      "Test Error: \n",
      " Accuracy: 47.0%, Avg loss: 2.823668 \n",
      "\n",
      "Epoch 13\n",
      "-------------------------------\n",
      "loss: 2.421022\n",
      "Test Error: \n",
      " Accuracy: 47.6%, Avg loss: 2.815915 \n",
      "\n",
      "Epoch 14\n",
      "-------------------------------\n",
      "loss: 2.410738\n",
      "Test Error: \n",
      " Accuracy: 50.3%, Avg loss: 2.787824 \n",
      "\n",
      "Epoch 15\n",
      "-------------------------------\n",
      "loss: 2.787443\n",
      "Test Error: \n",
      " Accuracy: 49.9%, Avg loss: 2.789630 \n",
      "\n",
      "Epoch 16\n",
      "-------------------------------\n",
      "loss: 2.656034\n",
      "Test Error: \n",
      " Accuracy: 51.0%, Avg loss: 2.779927 \n",
      "\n",
      "Epoch 17\n",
      "-------------------------------\n",
      "loss: 2.786151\n",
      "Test Error: \n",
      " Accuracy: 55.1%, Avg loss: 2.736645 \n",
      "\n",
      "Epoch 18\n",
      "-------------------------------\n",
      "loss: 2.533984\n",
      "Test Error: \n",
      " Accuracy: 56.8%, Avg loss: 2.722437 \n",
      "\n",
      "Epoch 19\n",
      "-------------------------------\n",
      "loss: 2.541932\n",
      "Test Error: \n",
      " Accuracy: 55.5%, Avg loss: 2.728542 \n",
      "\n",
      "Epoch 20\n",
      "-------------------------------\n",
      "loss: 2.656996\n",
      "Test Error: \n",
      " Accuracy: 56.5%, Avg loss: 2.722563 \n",
      "\n",
      "Done!\n"
     ]
    }
   ],
   "source": [
    "for t in range(epoch):\n",
    "    print(f\"Epoch {t+1}\\n-------------------------------\")\n",
    "    train_loop(train_set, model, loss_fn, optimizer, batch_size)\n",
    "    acc3 = test_loop(test_dataloader, model, loss_fn)\n",
    "    if acc3 >= 75:\n",
    "        break\n",
    "print(\"Done!\")"
   ]
  },
  {
   "cell_type": "markdown",
   "id": "7c5ee114",
   "metadata": {},
   "source": [
    "###### The convergence rate decreases with dropout, but it helps to reduce the test error and causes good generalization.\n",
    "###### Because it adds a regularization part to the objective function."
   ]
  },
  {
   "cell_type": "markdown",
   "id": "0e227274",
   "metadata": {},
   "source": [
    "# 3.D"
   ]
  },
  {
   "cell_type": "code",
   "execution_count": 19,
   "id": "d2052573",
   "metadata": {},
   "outputs": [
    {
     "name": "stdout",
     "output_type": "stream",
     "text": [
      "Considering the limitation of 20 in the number of epochs, the best result was obtained in the Adam algorithm \n",
      " without dropout with 75.7 % accuracy.\n"
     ]
    }
   ],
   "source": [
    "print(f\"Considering the limitation of 20 in the number of epochs, the best result was obtained in the Adam algorithm \\n \\\n",
    "without dropout with {(acc2):>0.1f} % accuracy.\")"
   ]
  },
  {
   "cell_type": "code",
   "execution_count": null,
   "id": "5923ea60",
   "metadata": {},
   "outputs": [],
   "source": []
  }
 ],
 "metadata": {
  "kernelspec": {
   "display_name": "Python 3 (ipykernel)",
   "language": "python",
   "name": "python3"
  },
  "language_info": {
   "codemirror_mode": {
    "name": "ipython",
    "version": 3
   },
   "file_extension": ".py",
   "mimetype": "text/x-python",
   "name": "python",
   "nbconvert_exporter": "python",
   "pygments_lexer": "ipython3",
   "version": "3.9.15"
  }
 },
 "nbformat": 4,
 "nbformat_minor": 5
}
