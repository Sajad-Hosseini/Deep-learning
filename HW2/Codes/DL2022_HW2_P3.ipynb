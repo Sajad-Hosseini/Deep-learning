{
 "cells": [
  {
   "cell_type": "markdown",
   "id": "9d9cfadd",
   "metadata": {},
   "source": [
    "# 1.A"
   ]
  },
  {
   "cell_type": "code",
   "execution_count": 1,
   "id": "3d39d86d",
   "metadata": {},
   "outputs": [],
   "source": [
    "import torch\n",
    "import numpy as np\n",
    "from torch.utils.data import Dataset\n",
    "from torchvision import datasets\n",
    "from torchvision.transforms import ToTensor\n",
    "import matplotlib.pyplot as plt"
   ]
  },
  {
   "cell_type": "code",
   "execution_count": 2,
   "id": "af3bb0d8",
   "metadata": {},
   "outputs": [],
   "source": [
    "training_data = datasets.FashionMNIST(\n",
    "    root=\"data\",\n",
    "    train=True, \n",
    "    download=True,\n",
    "    transform=ToTensor() \n",
    ")\n",
    "\n",
    "test_data = datasets.FashionMNIST(\n",
    "    root=\"data\",\n",
    "    train=False,\n",
    "    download=True,\n",
    "    transform=ToTensor()\n",
    ")"
   ]
  },
  {
   "cell_type": "code",
   "execution_count": 3,
   "id": "4276adc5",
   "metadata": {},
   "outputs": [
    {
     "data": {
      "image/png": "[encoded data removed]",
      "text/plain": [
       "<Figure size 1500x480 with 10 Axes>"
      ]
     },
     "metadata": {},
     "output_type": "display_data"
    }
   ],
   "source": [
    "#torch.manual_seed(0)\n",
    "fig, axs = plt.subplots(1, 10)\n",
    "fig.set_figwidth(15)\n",
    "for i in range(10):\n",
    "    x = (training_data.targets==i).nonzero(as_tuple=True)\n",
    "    idx = x[0][torch.randint(1,len(x[0]),(1,1))]\n",
    "    img, label = training_data[idx.item()]\n",
    "    axs[i].set_title(f\"Label = {label}\", fontsize=10)\n",
    "    axs[i].imshow(img.squeeze(), cmap=\"gray\")\n",
    "    axs[i].axis(False)\n"
   ]
  },
  {
   "cell_type": "markdown",
   "id": "dd965019",
   "metadata": {},
   "source": [
    "# 1.B"
   ]
  },
  {
   "cell_type": "code",
   "execution_count": 4,
   "id": "3cd4da9a",
   "metadata": {},
   "outputs": [],
   "source": [
    "class NeuralNetwork:\n",
    "    def __init__(self, h=0):\n",
    "        self.h = h # Number of hidden layers\n",
    "        \n",
    "    def ReLU(self,Z):\n",
    "        return torch.max(Z, torch.zeros_like(Z))\n",
    "    \n",
    "    def softmax(self,Z):\n",
    "        Y = torch.zeros_like(Z)\n",
    "        for i in range(Y.shape[0]):\n",
    "            y = torch.exp(Z[i])\n",
    "            y = Z[i]\n",
    "            Y[i]= y / y.sum()\n",
    "        return Y\n",
    "        \n",
    "    def forward(self, X, W, b):\n",
    "        Z = X\n",
    "        for i in range(self.h):\n",
    "            Z = Z @ W[i] + b[i]\n",
    "            Z = self.ReLU(Z) # ReLU activation function for hidden layers\n",
    "        Z = Z @ W[-1] + b[-1]   \n",
    "        return self.softmax(Z) # Softmax layer for output"
   ]
  },
  {
   "cell_type": "code",
   "execution_count": 5,
   "id": "9894738d",
   "metadata": {},
   "outputs": [],
   "source": [
    "h = 3 # Creats a Neural Network with 3 hiden layers\n",
    "model = NeuralNetwork(h) "
   ]
  },
  {
   "cell_type": "markdown",
   "id": "8aaf7cea",
   "metadata": {},
   "source": [
    "# 1.C"
   ]
  },
  {
   "cell_type": "code",
   "execution_count": 11,
   "id": "e83ae7cd",
   "metadata": {},
   "outputs": [],
   "source": [
    "from torch.utils.data import DataLoader\n",
    "\n",
    "def initialize(n,m):\n",
    "    W=[]\n",
    "    W.append(torch.rand(n, 64, requires_grad=True))\n",
    "    W.append(torch.rand(64, 32, requires_grad=True))\n",
    "    W.append(torch.rand(32, 16, requires_grad=True))\n",
    "    W.append(torch.rand(16, m, requires_grad=True))\n",
    "    b=[]\n",
    "    b.append(torch.rand(1, 64, requires_grad=True))\n",
    "    b.append(torch.rand(1, 32, requires_grad=True))\n",
    "    b.append(torch.rand(1, 16, requires_grad=True))\n",
    "    b.append(torch.rand(1, m, requires_grad=True))\n",
    "    return W, b\n",
    "\n",
    "def preprocessing(train_batch, batch_size, n):\n",
    "    for batch in range(batch_size):\n",
    "        Y_train = torch.eye(10)[train_batch[1]] # Create one-hot output\n",
    "        if batch == 0:\n",
    "             X_train = train_batch[0][batch][0].reshape(1,n)\n",
    "        else:\n",
    "             X_train = torch.cat((X_train , train_batch[0][batch][0].reshape(1,n)) ,dim=0) \n",
    "    return X_train, Y_train\n",
    "    \n",
    "def train(model, training_data, W, b, batch_size, epoch, k, n, learning_rate):\n",
    "    for epc in range(epoch):\n",
    "        train_dataloader = DataLoader(training_data, batch_size=batch_size, shuffle=True)\n",
    "      # test_dataloader = DataLoader(test_data, batch_size=batch_size, shuffle=True)\n",
    "        for i in range(int(k)):\n",
    "            train_batch = next(iter(train_dataloader))\n",
    "          # test_batch = next(iter(test_dataloader))\n",
    "            X_train, Y_train = preprocessing(train_batch, batch_size, n)\n",
    "            Y_predicted = model.forward(X_train, W, b)\n",
    "            e = (Y_predicted-Y_train)*(Y_predicted-Y_train)\n",
    "            e.sum().backward()\n",
    "            for j in range(4):\n",
    "                with torch.no_grad():\n",
    "                    W[j] = W[j] - learning_rate * W[j].grad\n",
    "                    b[j] = b[j] - learning_rate * b[j].grad\n",
    "                W[j].requires_grad=True\n",
    "                b[j].requires_grad=True\n",
    "    return e.sum()"
   ]
  },
  {
   "cell_type": "code",
   "execution_count": 13,
   "id": "89da1e4c",
   "metadata": {},
   "outputs": [],
   "source": [
    "n = np.power(np.max(training_data[0][0].shape),2)\n",
    "m = torch.unique(training_data.targets).numel()\n",
    "learning_rate = 0.1\n",
    "batch_size = 60\n",
    "k = len(training_data.targets) / batch_size\n",
    "epoch = 10\n",
    "W, b = initialize(n,m)"
   ]
  },
  {
   "cell_type": "code",
   "execution_count": 14,
   "id": "c1a8b948",
   "metadata": {},
   "outputs": [],
   "source": [
    "e = train(model, training_data, W, b, batch_size, epoch, k, n, learning_rate)"
   ]
  },
  {
   "cell_type": "code",
   "execution_count": 15,
   "id": "caf59756",
   "metadata": {},
   "outputs": [
    {
     "data": {
      "text/plain": [
       "tensor(53.9726, grad_fn=<SumBackward0>)"
      ]
     },
     "execution_count": 15,
     "metadata": {},
     "output_type": "execute_result"
    }
   ],
   "source": [
    "e"
   ]
  },
  {
   "cell_type": "code",
   "execution_count": null,
   "id": "e08cf7b9",
   "metadata": {},
   "outputs": [],
   "source": []
  }
 ],
 "metadata": {
  "kernelspec": {
   "display_name": "Python 3 (ipykernel)",
   "language": "python",
   "name": "python3"
  },
  "language_info": {
   "codemirror_mode": {
    "name": "ipython",
    "version": 3
   },
   "file_extension": ".py",
   "mimetype": "text/x-python",
   "name": "python",
   "nbconvert_exporter": "python",
   "pygments_lexer": "ipython3",
   "version": "3.9.15"
  }
 },
 "nbformat": 4,
 "nbformat_minor": 5
}
